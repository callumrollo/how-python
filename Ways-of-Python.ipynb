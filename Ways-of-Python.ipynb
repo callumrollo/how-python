{
 "cells": [
  {
   "cell_type": "markdown",
   "metadata": {},
   "source": [
    "# Many ways of Python"
   ]
  },
  {
   "cell_type": "markdown",
   "metadata": {},
   "source": [
    "### TODO Callum\n",
    "\n",
    "### TODO Nele\n",
    "- check if jnb still shit on ada\n",
    "- check which text editors on ada\n",
    "- check whether Spyder still accessible from ada & whether it's still basically impossible\n",
    "- add optparse example\n",
    "- RUN EVERYTHING BY HPC TEAM \n",
    "\n",
    "***"
   ]
  },
  {
   "cell_type": "markdown",
   "metadata": {},
   "source": [
    "Unlike other programs that have a single programming interface (matlab) or a dominant interface de jour (R with RStudio), Python has a whole ecosystem of programs for writing it. This can be confusing at first, with so much choice, what should you use for your project?\n",
    "\n",
    "This presentation will cover some of the most popular Python interfaces, their pros and cons, and some situations in which one may be preferable to another. We will also discuss some operational details of the Anaconda package management system."
   ]
  },
  {
   "cell_type": "markdown",
   "metadata": {},
   "source": [
    "## 1. Jupyter notebooks\n",
    "\n",
    "These are our primary teaching tool.\n",
    "\n",
    "### Pros\n",
    "- Web based interface, easy to maintain\n",
    "- Inline figures and markdown cells make great workbooks\n",
    "- Encourages self documenting code\n",
    "- \"magic\" functions to interact with operating system\n",
    "- Can share interactive notebooks online, e.g. via [Binder](https://mybinder.org/)\n",
    "\n",
    "### Cons\n",
    "- Harder to automate the scripts\n",
    "- Makes a mess in git\n",
    "- Requires a GUI to run/efficiently examine the notebooks\n",
    "\n",
    "\n",
    "Also check out [jupyterlab](https://jupyter.org/). This is the new standard for jupyter. Much more powerful and integrated. All projects written in notebookc can be continued in lab with no changes needed"
   ]
  },
  {
   "cell_type": "code",
   "execution_count": 1,
   "metadata": {},
   "outputs": [],
   "source": [
    "# Demo some jupyter stuff here"
   ]
  },
  {
   "cell_type": "markdown",
   "metadata": {},
   "source": [
    "## 2. Integrated Development Environments (IDEs)\n",
    "These are full featured tools for code development. [Spyder](https://www.spyder-ide.org/) is very popular among scientists. Especially if you are coming from a matlab or RStudio background, the appearance of this IDE is very familiar and comforting. The whole thing isitself made in Python which is pretty cool\n",
    "\n",
    "[Pycharm](https://www.jetbrains.com/pycharm/) is like Spyder on steriods\n",
    "\n",
    "### Pros\n",
    "- See variables, file system, command line and code at a glance\n",
    "- Loads of plugins (especially Pycharm)\n",
    "- Smart autocompletion\n",
    "- Code highlighting for e.g. unused imports, missing whitespace\n",
    "- Can handle outside programs like git\n",
    "\n",
    "### Cons\n",
    "- Heavy on OS resources, especially RAM\n",
    "- Can be slow to start"
   ]
  },
  {
   "cell_type": "code",
   "execution_count": 2,
   "metadata": {},
   "outputs": [],
   "source": [
    "# Demo an IDE, including code hints and autocompletion"
   ]
  },
  {
   "cell_type": "markdown",
   "metadata": {},
   "source": [
    "## 3. Python fresh from the command line\n",
    "\n",
    "Just open up a Python prompt and start coding\n",
    "\n",
    "This is a farily rare use case unless you are doing something very short. However, it's good to remmeber that this is availble. On pretty much any unix system (Linux, Mac etc) you can get straight to Python from the command line. This can be useful if you're logged in to a remote server and need to execute some Python in a hurry.\n",
    "\n",
    "If you're writing more than a couple of lines however, you'll want to write some `.py` files and run them"
   ]
  },
  {
   "cell_type": "code",
   "execution_count": 3,
   "metadata": {},
   "outputs": [],
   "source": [
    "# Python command line demo"
   ]
  },
  {
   "cell_type": "markdown",
   "metadata": {},
   "source": [
    "## 4. Python in files\n"
   ]
  },
  {
   "cell_type": "markdown",
   "metadata": {},
   "source": [
    "### Providing inputs to Python scripts run from the command line\n",
    "There are different ways to turn your Python program (.py) into a commandline tool. We will demonstrate two of these options below.\n",
    "\n",
    "#### sys.argv\n",
    "The sys module is part of the standard Python library. It *does stuff I guess idk <font color=green> callum help </font>*. \n",
    "Let's say we are running a Python program called halloween.py in the shell as follows:"
   ]
  },
  {
   "cell_type": "code",
   "execution_count": 4,
   "metadata": {},
   "outputs": [
    {
     "name": "stdout",
     "output_type": "stream",
     "text": [
      "13 is a <class 'int'>\r\n",
      "pumpkin is a <class 'str'>\r\n",
      "['cat', 'bat', 'spider'] is a <class 'list'>\r\n",
      "This program is called halloween.py\r\n"
     ]
    }
   ],
   "source": [
    "! python3 halloween.py 13 pumpkin cat,bat,spider  # the exlamation mark tells Jupyter we're running a shell command."
   ]
  },
  {
   "cell_type": "markdown",
   "metadata": {},
   "source": [
    "In halloween.py, the inputs ```13```,  ```pumpkin``` and ```cat,bat,spider``` are accessed as follows:"
   ]
  },
  {
   "cell_type": "code",
   "execution_count": 5,
   "metadata": {},
   "outputs": [
    {
     "ename": "ValueError",
     "evalue": "invalid literal for int() with base 10: '-f'",
     "output_type": "error",
     "traceback": [
      "\u001b[0;31m---------------------------------------------------------------------------\u001b[0m",
      "\u001b[0;31mValueError\u001b[0m                                Traceback (most recent call last)",
      "\u001b[0;32m<ipython-input-5-48a8b9ce30ca>\u001b[0m in \u001b[0;36m<module>\u001b[0;34m\u001b[0m\n\u001b[1;32m      7\u001b[0m \u001b[0minputs\u001b[0m \u001b[0;34m=\u001b[0m \u001b[0msys\u001b[0m\u001b[0;34m.\u001b[0m\u001b[0margv\u001b[0m\u001b[0;34m[\u001b[0m\u001b[0;36m1\u001b[0m\u001b[0;34m:\u001b[0m\u001b[0;34m]\u001b[0m\u001b[0;34m\u001b[0m\u001b[0;34m\u001b[0m\u001b[0m\n\u001b[1;32m      8\u001b[0m \u001b[0;31m# all elements of sys.argv are strings, but we want these inputs to be of different types:\u001b[0m\u001b[0;34m\u001b[0m\u001b[0;34m\u001b[0m\u001b[0;34m\u001b[0m\u001b[0m\n\u001b[0;32m----> 9\u001b[0;31m \u001b[0mnumber\u001b[0m \u001b[0;34m=\u001b[0m \u001b[0mint\u001b[0m\u001b[0;34m(\u001b[0m\u001b[0minputs\u001b[0m\u001b[0;34m[\u001b[0m\u001b[0;36m0\u001b[0m\u001b[0;34m]\u001b[0m\u001b[0;34m)\u001b[0m\u001b[0;34m\u001b[0m\u001b[0;34m\u001b[0m\u001b[0m\n\u001b[0m\u001b[1;32m     10\u001b[0m \u001b[0mlantern\u001b[0m \u001b[0;34m=\u001b[0m \u001b[0minputs\u001b[0m\u001b[0;34m[\u001b[0m\u001b[0;36m1\u001b[0m\u001b[0;34m]\u001b[0m\u001b[0;34m\u001b[0m\u001b[0;34m\u001b[0m\u001b[0m\n\u001b[1;32m     11\u001b[0m \u001b[0manimals\u001b[0m \u001b[0;34m=\u001b[0m \u001b[0minputs\u001b[0m\u001b[0;34m[\u001b[0m\u001b[0;36m2\u001b[0m\u001b[0;34m]\u001b[0m\u001b[0;34m.\u001b[0m\u001b[0msplit\u001b[0m\u001b[0;34m(\u001b[0m\u001b[0;34m','\u001b[0m\u001b[0;34m)\u001b[0m\u001b[0;34m\u001b[0m\u001b[0;34m\u001b[0m\u001b[0m\n",
      "\u001b[0;31mValueError\u001b[0m: invalid literal for int() with base 10: '-f'"
     ]
    }
   ],
   "source": [
    "\"\"\"\n",
    "This is a spooky demonstration of using sys.argv to provide a python script with inputs.\n",
    "\"\"\"\n",
    "import sys\n",
    "\n",
    "# unpacking inputs\n",
    "inputs = sys.argv[1:]\n",
    "# all elements of sys.argv are strings, but we want these inputs to be of different types:\n",
    "number = int(inputs[0])\n",
    "lantern = inputs[1]\n",
    "animals = inputs[2].split(',')\n",
    "# check the types of the variables now\n",
    "print(\"{} is a {}\".format(number, type(number)))\n",
    "print(\"{} is a {}\".format(lantern, type(lantern)))\n",
    "print(\"{} is a {}\".format(animals, type(animals)))\n",
    "# get the name of the program\n",
    "print(\"This program is called {}\".format(sys.argv[0]))"
   ]
  },
  {
   "cell_type": "markdown",
   "metadata": {},
   "source": [
    "(The above won't work in this notebook, but you can find this script for yourself \n",
    "Note that the first element of sys.argv is always the name of the program that is being run. This can be useful, for example if you are exporting a netcdf-file with results in your program and want to add the name of the script as an attribute."
   ]
  },
  {
   "cell_type": "markdown",
   "metadata": {},
   "source": [
    "#### optparse\n",
    "TODO "
   ]
  },
  {
   "cell_type": "markdown",
   "metadata": {},
   "source": [
    "<font color=green> [nelerey comment:] What is this suggestion about? I was going to propose mentioning the option editing .py files in text editors that (can) have Python syntax highlighting (at least), like Atom. But maybe this is what you planned to do here? </font>"
   ]
  },
  {
   "cell_type": "markdown",
   "metadata": {},
   "source": [
    "You can write Python in any text editor program. On UNIX systems vim and emacs remain popular after several decades. Atom is a more user friendly GUI based option. Windows users can try notepad++ for Python support"
   ]
  },
  {
   "cell_type": "markdown",
   "metadata": {},
   "source": [
    "### Pros\n",
    "- Simple and lightweight\n",
    "- Always there for you (especially vim)\n",
    "- Super portable scripts\n",
    "- Easy to automate with tools like cron\n",
    "\n",
    "### Cons\n",
    "- Limited autocompletion and error checking\n",
    "- No easy way to check workspace (variables, path etc)\n",
    "- Working with figures can be difficult (need to save to file and display)"
   ]
  },
  {
   "cell_type": "markdown",
   "metadata": {},
   "source": [
    "## 5. Python on the HPC\n",
    "Depending on your research and your computer, you may want to consider running some or most of your analyses and experiments on a High Performance Computer (HPC). I would recommend the HPC Cluster for your (Python) work if you are processing large volumes of data (e.g. climate model output), or you are undertaking computationally intensive work in general. While the HPC is running your Python programs, your own machine is not burdened, so you can freely use its resources for other tasks or shut it off. \n",
    "\n",
    "At UEA, there are two Linux HPC Clusters: the old HPC which is entering retirement soon, and the new ADA Cluster. \n",
    "The latter provides me with an excellent excuse to insert an image of 19th century visionary Ada Lovelace.\n",
    "\n",
    "![](images/alovelace.png)\n",
    "\n",
    "For more introduction on High Performance Computing and ADA, please see [the UEA Research and Specialist Computing Support help pages](https://rscs.uea.ac.uk/high-performance-computing1). The HPC team offers to meet with all new users to help you get started. In the rest of this section, I will briefly go over different ways to use Python on ADA, but most of this information should be directly transferable to other HPC systems."
   ]
  },
  {
   "cell_type": "markdown",
   "metadata": {},
   "source": [
    "Conda is available on ADA. Information on how to build and activate conda python environments on ADA can be found [here](https://rscs.uea.ac.uk/ada/using-ada/software/conda-python)."
   ]
  },
  {
   "cell_type": "markdown",
   "metadata": {},
   "source": [
    "On the HPC, you can either work **interactively** or **submit batch jobs**. "
   ]
  },
  {
   "cell_type": "markdown",
   "metadata": {},
   "source": [
    "In the **interactive** case, you can use Python in the following ways: \n",
    "- commandline (see Section 3)\n",
    "  - python\n",
    "  - IPython\n",
    "- edit script in your favorite text editor and run from commandline\n",
    "  - nano\n",
    "  - vim\n",
    "  - emacs...\n",
    "  - atom editor via rmate\n",
    "The following are also possible, but require X11 forwarding (?? fact check) and were slow to the point of being unworkable the last time I tried (pre-ADA):\n",
    "- Jupyter notebooks\n",
    "- Spyder"
   ]
  },
  {
   "cell_type": "markdown",
   "metadata": {},
   "source": [
    "If your experiment is more computationally intensive (and if you don't want to wait while it runs), you will need to submit a batch job instead of working interactively. \n",
    "In this script, you need to import your conda environment with ```source activate my-env``` and/or import the python module with ```module load python/version``` before running your python script as usual with ```python3 -script.py input1 input2... ```. "
   ]
  },
  {
   "cell_type": "markdown",
   "metadata": {},
   "source": [
    "-------------------------------\n",
    "\n",
    "# Anaconda\n",
    "\n",
    "If you are not already familiar with Anaconda, it is a distribution of Python geared toward data scientists that aims to make it quick and easy to manage multiple projects with differing dependencies.\n",
    "\n",
    "With Anaconda you can maintain seperate **environments** for all your projects.\n",
    "\n",
    "Why would you want to do this? Different projects require different packages, and not all of these packages are able to interoperate. Particularly in science, we often need to use legacy software dependant on older modules. If you want to work on one project built in Python 2.7 and your new stuff in 3.8, you'll need to keep them seperate on your system so they don't interfere with each other. Anaconda is a very user friendly way to acheive this."
   ]
  },
  {
   "cell_type": "markdown",
   "metadata": {},
   "source": [
    "![conda.jpeg](images/conda.jpg)"
   ]
  },
  {
   "cell_type": "markdown",
   "metadata": {},
   "source": [
    "The key to anaconda is **environments**. These are collections of Python modules, non Python programs (like jupyter notebooks, GDAL or Spyder) and a specific version of Python itself. There is no limit to the number of environments you can have. The only requirement is that each one has a unique name on your system.\n",
    "\n",
    "Here's an example environment from our PPD Python course"
   ]
  },
  {
   "cell_type": "markdown",
   "metadata": {},
   "source": [
    "```yml\n",
    "name: ppd_python\n",
    "channels:\n",
    "   - defaults\n",
    "   - conda-forge\n",
    "dependencies:\n",
    "   - python=3.8\n",
    "   - ipython\n",
    "   - jupyter\n",
    "   - numpy\n",
    "   - matplotlib\n",
    "   - pandas\n",
    "   - cartopy\n",
    "   - xarray\n",
    "   - netcdf4\n",
    "   - seaborn\n",
    "   - spyder\n",
    "   - tqdm\n",
    "   - scipy\n",
    "   - iris\n",
    "   - plotly\n",
    "   - cftime\n",
    "```"
   ]
  },
  {
   "cell_type": "markdown",
   "metadata": {},
   "source": [
    "The environment is created from a textfile. You need to specify a names, sources and the modules (dependencies) you need. In this case we specified `Python=3.8`, `jupyter` to run notebooks and a bunch of modules including `numpy`, `matplotlib` and `scipy`. This should be all anyone needs to replicate the same environment on their machine and run the scripts succesfully. If you are sharing code with others, always include an environment file so it runs correctly."
   ]
  },
  {
   "cell_type": "markdown",
   "metadata": {},
   "source": [
    "We will do a more detailed demo of package management with Anaconda in the future"
   ]
  },
  {
   "cell_type": "markdown",
   "metadata": {},
   "source": [
    "# How I start a Python project"
   ]
  },
  {
   "cell_type": "markdown",
   "metadata": {},
   "source": [
    "![flow-chart.png](images/flow-chart.png)"
   ]
  },
  {
   "cell_type": "markdown",
   "metadata": {},
   "source": [
    "\\**Other Hosting Services Are Available*"
   ]
  },
  {
   "cell_type": "markdown",
   "metadata": {},
   "source": [
    "-------------------\n",
    "### Reading\n",
    "\n",
    "- A [cool trick with conda](https://www.leouieda.com/blog/conda-envs.html) for bash users by Leo Uieda. N.B. `conda activate` is preferred to `source activate` these days.\n",
    "\n",
    "### Sources\n",
    "- [Python on the ADA HPC](https://rscs.uea.ac.uk/ada/using-ada/software/conda-python)\n",
    "\n",
    "#### Images\n",
    "- Conda image: https://www.imperial.ac.uk/admin-services/ict/self-service/research-support/rcs/support/applications/conda/ \n",
    "- Ada Lovelace: https://blogs.scientificamerican.com/observations/ada-lovelace-day-honors-the-first-computer-programmer/\n",
    "- Flow chart made with [graphviz](https://graphviz.org/)"
   ]
  }
 ],
 "metadata": {
  "kernelspec": {
   "display_name": "Python 3",
   "language": "python",
   "name": "python3"
  },
  "language_info": {
   "codemirror_mode": {
    "name": "ipython",
    "version": 3
   },
   "file_extension": ".py",
   "mimetype": "text/x-python",
   "name": "python",
   "nbconvert_exporter": "python",
   "pygments_lexer": "ipython3",
   "version": "3.8.3"
  }
 },
 "nbformat": 4,
 "nbformat_minor": 4
}
