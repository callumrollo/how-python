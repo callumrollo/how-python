{
 "cells": [
  {
   "cell_type": "markdown",
   "metadata": {},
   "source": [
    "# Many ways of Python"
   ]
  },
  {
   "cell_type": "markdown",
   "metadata": {},
   "source": [
    "### TODO\n",
    "- Add lots of links\n",
    "- Flesh out descriptions\n",
    "- Make short demos for each way to run Python\n",
    "- Share with Nele\n",
    "- Consider [graphvis](https://graphviz.org/gallery/) via [DOT](https://en.wikipedia.org/wiki/DOT_(graph_description_language)) for flow charts, you heckin nerd"
   ]
  },
  {
   "cell_type": "markdown",
   "metadata": {},
   "source": [
    "Unlike other programs that have a single programming interface (matlab) or a dominant interface de jour (R with RStudio), Python has a whole ecosystem of programs for writing it. This can be confusing at first, with so much choice, what should you use for your project?\n",
    "\n",
    "This presentation will cover some of the most popular Python interfaces, their pros and cons, and some situations in which one may be preferable to another. We will also discuss some operational details of the Anaconda package management system."
   ]
  },
  {
   "cell_type": "markdown",
   "metadata": {},
   "source": [
    "### 1. Jupyter notebooks\n",
    "\n",
    "These are our primary teaching tool\n",
    "\n",
    "Also check out jupyterlab. This is the new standard for jupyter. Much more powerful and integrated. All projects written in notebookc can be continued in lab with no changes needed"
   ]
  },
  {
   "cell_type": "markdown",
   "metadata": {},
   "source": [
    "### 2. Spyder and Pycharm\n",
    "Integrated development environments. Spyder is very popular among scientists. Especially if you are coming from a matlab or RStudio background, the appearance of this IDE is very familiar and comforting. The whole thing isitself made in Python which is pretty cool\n",
    "\n",
    "Pycharm is like Spyder on steriods"
   ]
  },
  {
   "cell_type": "markdown",
   "metadata": {},
   "source": [
    "### 3. Python fresh from the command line"
   ]
  },
  {
   "cell_type": "markdown",
   "metadata": {},
   "source": [
    "### 4. Python in files"
   ]
  },
  {
   "cell_type": "markdown",
   "metadata": {},
   "source": [
    "### 5. Python on the HPC"
   ]
  },
  {
   "cell_type": "markdown",
   "metadata": {},
   "source": [
    "### Side note: how to start a project?\n",
    "\n",
    "When in doubt **copy something that works** and remix it to do you what you want\n",
    "\n",
    "It is entirely legit to start from a jupyter notebook from a training course, a Pyton script from a previous project you did, a template of a library from github. You don't have to start everying from an empty file"
   ]
  },
  {
   "cell_type": "markdown",
   "metadata": {},
   "source": [
    "# Anaconda\n",
    "\n",
    "If you are not already familiar with Anaconda, it is a distribution of Python geared toward data scientists that aims to make it quick and easy to manage multiple projects with differing dependencies"
   ]
  },
  {
   "cell_type": "markdown",
   "metadata": {},
   "source": [
    "![conda.jpeg](conda.jpg)"
   ]
  },
  {
   "cell_type": "markdown",
   "metadata": {},
   "source": [
    "# How I start a Python project\n",
    "\n",
    "This is my decision making process when beginning a Python project\n",
    "\n",
    "1. What libraries do I need?\n",
    "\n",
    "| Libraries    | Action    | \n",
    "| :------------- | :---------- |\n",
    "|Standard science, e.g. matplotlib, xarray etc |Activate course2020 environment|\n",
    "|Something I've downloaded from github| Create environment from included .yml file|\n",
    "|Something completely new |Create a new envrionment|\n",
    "\n",
    "\n",
    "2. What coding do I plan to do?\n",
    "\n",
    "| Aim    | Action    | \n",
    "| :------------- | :---------- |\n",
    "| Quick hacking/exploratory analysis | Jupyter |\n",
    "| Big complex project | IDE (Pycharm)|\n",
    "| Demo for supervisors/teaching material | Jupyter |\n",
    "| Running tests | Command line |\n",
    "| Use HPC | |\n",
    "\n",
    "3. Is this going to last longer than a couple of hours\n",
    "\n",
    "If so **Start a git repo**\n",
    "\n",
    "4. Do I want to share it with others?\n",
    "\n",
    "Push that git repo to a public site like Github or Gitlab. Make a sesnsible README file and add a licence"
   ]
  },
  {
   "cell_type": "markdown",
   "metadata": {},
   "source": [
    "-------------------\n",
    "### Reading\n",
    "\n",
    "A [cool trick with conda](https://www.leouieda.com/blog/conda-envs.html) for bash users by Leo Uieda. N.B. `conda activate` is preferred to `source activate` these days\n",
    "\n",
    "### Sources\n",
    "\n",
    "Conda image from https://www.imperial.ac.uk/admin-services/ict/self-service/research-support/rcs/support/applications/conda/"
   ]
  },
  {
   "cell_type": "code",
   "execution_count": null,
   "metadata": {},
   "outputs": [],
   "source": []
  }
 ],
 "metadata": {
  "kernelspec": {
   "display_name": "Python 3",
   "language": "python",
   "name": "python3"
  },
  "language_info": {
   "codemirror_mode": {
    "name": "ipython",
    "version": 3
   },
   "file_extension": ".py",
   "mimetype": "text/x-python",
   "name": "python",
   "nbconvert_exporter": "python",
   "pygments_lexer": "ipython3",
   "version": "3.8.3"
  }
 },
 "nbformat": 4,
 "nbformat_minor": 4
}
